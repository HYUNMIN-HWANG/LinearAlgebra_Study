{
 "metadata": {
  "language_info": {
   "codemirror_mode": {
    "name": "ipython",
    "version": 3
   },
   "file_extension": ".py",
   "mimetype": "text/x-python",
   "name": "python",
   "nbconvert_exporter": "python",
   "pygments_lexer": "ipython3",
   "version": "3.8.5"
  },
  "orig_nbformat": 4,
  "kernelspec": {
   "name": "python3",
   "display_name": "Python 3.8.5 64-bit ('base': conda)"
  },
  "interpreter": {
   "hash": "cfed29639e118e2330c8cca2e9f389b076390c6676518be5d289ddd682bc9f99"
  }
 },
 "nbformat": 4,
 "nbformat_minor": 2,
 "cells": [
  {
   "source": [
    "- numeric variable"
   ],
   "cell_type": "markdown",
   "metadata": {}
  },
  {
   "cell_type": "code",
   "execution_count": 7,
   "metadata": {},
   "outputs": [
    {
     "output_type": "execute_result",
     "data": {
      "text/plain": [
       "5.1"
      ]
     },
     "metadata": {},
     "execution_count": 7
    }
   ],
   "source": [
    "a = 3.1   # variable\r\n",
    "a + 2   "
   ]
  },
  {
   "cell_type": "code",
   "execution_count": 8,
   "metadata": {},
   "outputs": [
    {
     "output_type": "execute_result",
     "data": {
      "text/plain": [
       "23.1"
      ]
     },
     "metadata": {},
     "execution_count": 8
    }
   ],
   "source": [
    "a = 3.1   # variable\n",
    "b = 10\n",
    "a + b * 2  "
   ]
  },
  {
   "cell_type": "code",
   "execution_count": 10,
   "metadata": {},
   "outputs": [
    {
     "output_type": "execute_result",
     "data": {
      "text/plain": [
       "289"
      ]
     },
     "metadata": {},
     "execution_count": 10
    }
   ],
   "source": [
    "mike = 17\n",
    "mike*b + 1\n",
    "mike**2     # print only last thing"
   ]
  },
  {
   "cell_type": "code",
   "execution_count": 13,
   "metadata": {},
   "outputs": [
    {
     "output_type": "stream",
     "name": "stdout",
     "text": [
      "171\n289\n"
     ]
    }
   ],
   "source": [
    "mike = 17\n",
    "print(mike*b + 1)\n",
    "print(mike**2)     "
   ]
  },
  {
   "source": [
    "- string variable"
   ],
   "cell_type": "markdown",
   "metadata": {}
  },
  {
   "cell_type": "code",
   "execution_count": 18,
   "metadata": {},
   "outputs": [
    {
     "output_type": "stream",
     "name": "stdout",
     "text": [
      "Hello. My name is Mike!\n"
     ]
    }
   ],
   "source": [
    "greeting = 'Hello. My name is '\n",
    "name = 'Mike'\n",
    "print(greeting + name + '!')"
   ]
  },
  {
   "cell_type": "code",
   "execution_count": 21,
   "metadata": {},
   "outputs": [
    {
     "output_type": "stream",
     "name": "stdout",
     "text": [
      "Hello. My name is Mike!\nI am 10 years old.\n"
     ]
    }
   ],
   "source": [
    "greeting = 'Hello. My name is '\n",
    "name = 'Mike'\n",
    "age = 10    # int\n",
    "\n",
    "print(greeting + name + '!')\n",
    "print('I am ' + str(age) + ' years old.')   # int -> string"
   ]
  },
  {
   "source": [
    "- assignment"
   ],
   "cell_type": "markdown",
   "metadata": {}
  },
  {
   "cell_type": "code",
   "execution_count": 25,
   "metadata": {},
   "outputs": [
    {
     "output_type": "stream",
     "name": "stdout",
     "text": [
      "My name is Mike. I am now 10 years old,     and in 6 years I'll be 16 years old.\n"
     ]
    }
   ],
   "source": [
    "print(\"My name is \" + name + '. I am now ' + str(age) + ' years old, \\\n",
    "    and in 6 years I\\'ll be ' + str(age+6) + ' years old.')"
   ]
  }
 ]
}