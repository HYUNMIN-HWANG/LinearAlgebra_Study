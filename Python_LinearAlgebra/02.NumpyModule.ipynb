{
 "metadata": {
  "language_info": {
   "codemirror_mode": {
    "name": "ipython",
    "version": 3
   },
   "file_extension": ".py",
   "mimetype": "text/x-python",
   "name": "python",
   "nbconvert_exporter": "python",
   "pygments_lexer": "ipython3",
   "version": "3.8.5"
  },
  "orig_nbformat": 4,
  "kernelspec": {
   "name": "python3",
   "display_name": "Python 3.8.5 64-bit ('base': conda)"
  },
  "interpreter": {
   "hash": "cfed29639e118e2330c8cca2e9f389b076390c6676518be5d289ddd682bc9f99"
  }
 },
 "nbformat": 4,
 "nbformat_minor": 2,
 "cells": [
  {
   "cell_type": "code",
   "execution_count": 3,
   "metadata": {},
   "outputs": [
    {
     "output_type": "execute_result",
     "data": {
      "text/plain": [
       "[1, 2, 3, 4, 4]"
      ]
     },
     "metadata": {},
     "execution_count": 3
    }
   ],
   "source": [
    "numlist = [1,2,3,4,4]\n",
    "numlist"
   ]
  },
  {
   "cell_type": "code",
   "execution_count": 4,
   "metadata": {},
   "outputs": [
    {
     "output_type": "execute_result",
     "data": {
      "text/plain": [
       "5"
      ]
     },
     "metadata": {},
     "execution_count": 4
    }
   ],
   "source": [
    "abs(-5) # absolute\n",
    "\n",
    "# sqrt(4)   -> 안됨\n",
    "# average(numlist)  -> 안됨\n",
    "# mean(numlist) -> 안됨"
   ]
  },
  {
   "cell_type": "code",
   "execution_count": 5,
   "metadata": {},
   "outputs": [
    {
     "output_type": "stream",
     "name": "stdout",
     "text": [
      "2.8\n2.0\n"
     ]
    }
   ],
   "source": [
    "import numpy as np\n",
    "\n",
    "print(np.mean(numlist))\n",
    "print(np.sqrt(4))"
   ]
  },
  {
   "cell_type": "code",
   "execution_count": 6,
   "metadata": {},
   "outputs": [
    {
     "output_type": "execute_result",
     "data": {
      "text/plain": [
       "array([ 1. ,  2.5,  4. ,  5.5,  7. ,  8.5, 10. ])"
      ]
     },
     "metadata": {},
     "execution_count": 6
    }
   ],
   "source": [
    "np.linspace(1,10,7)\n",
    "# numpy array : 7 numbers, min 1, max 10"
   ]
  },
  {
   "cell_type": "code",
   "execution_count": 8,
   "metadata": {},
   "outputs": [
    {
     "output_type": "stream",
     "name": "stdout",
     "text": [
      "[ 1.          1.81818182  2.63636364  3.45454545  4.27272727  5.09090909\n  5.90909091  6.72727273  7.54545455  8.36363636  9.18181818 10.        ]\n[ 3.          3.81818182  4.63636364  5.45454545  6.27272727  7.09090909\n  7.90909091  8.72727273  9.54545455 10.36363636 11.18181818 12.        ]\n"
     ]
    }
   ],
   "source": [
    "funout = np.linspace(1,10,12)\n",
    "print(funout)\n",
    "print(funout+2)"
   ]
  },
  {
   "source": [
    "----"
   ],
   "cell_type": "markdown",
   "metadata": {}
  },
  {
   "source": [
    "- assignment    \n",
    "1) create a list of 15 numbers from 4 to 100     \n",
    "2) round those numbers to the nearest integer, and store in another variable        \n",
    "3) print out 2)         \n",
    "4)  print out the square root of each number in the list.    "
   ],
   "cell_type": "markdown",
   "metadata": {}
  },
  {
   "cell_type": "code",
   "execution_count": 13,
   "metadata": {},
   "outputs": [
    {
     "output_type": "stream",
     "name": "stdout",
     "text": [
      "[  4.          10.85714286  17.71428571  24.57142857  31.42857143\n  38.28571429  45.14285714  52.          58.85714286  65.71428571\n  72.57142857  79.42857143  86.28571429  93.14285714 100.        ]\n[  4.  11.  18.  25.  31.  38.  45.  52.  59.  66.  73.  79.  86.  93.\n 100.]\n[ 2.          3.31662479  4.24264069  5.          5.56776436  6.164414\n  6.70820393  7.21110255  7.68114575  8.1240384   8.54400375  8.88819442\n  9.2736185   9.64365076 10.        ]\n"
     ]
    }
   ],
   "source": [
    "# 1)\n",
    "number = np.linspace(4,100,15)\n",
    "print(number)\n",
    "\n",
    "# 2) \n",
    "around = np.around(number)\n",
    "\n",
    "# 3)\n",
    "print(around)\n",
    "\n",
    "# 4)\n",
    "sq = np.sqrt(around)\n",
    "print(sq)"
   ]
  }
 ]
}