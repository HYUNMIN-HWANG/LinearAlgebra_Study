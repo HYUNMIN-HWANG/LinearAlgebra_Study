{
 "metadata": {
  "language_info": {
   "codemirror_mode": {
    "name": "ipython",
    "version": 3
   },
   "file_extension": ".py",
   "mimetype": "text/x-python",
   "name": "python",
   "nbconvert_exporter": "python",
   "pygments_lexer": "ipython3",
   "version": "3.8.5"
  },
  "orig_nbformat": 4,
  "kernelspec": {
   "name": "python3",
   "display_name": "Python 3.8.5 64-bit ('base': conda)"
  },
  "interpreter": {
   "hash": "cfed29639e118e2330c8cca2e9f389b076390c6676518be5d289ddd682bc9f99"
  }
 },
 "nbformat": 4,
 "nbformat_minor": 2,
 "cells": [
  {
   "source": [
    "When can be mulitple two matrices?           \n",
    "AB != BA       \n",
    "\n",
    "---\n",
    "모양          \n",
    "(M x N) * (N x K) = (M x K)             \n",
    "ex. (5x2) * (2x7) = (5x7) -> 가능           \n",
    "ex. (2x7) * (5x2) = -> 불가능         "
   ],
   "cell_type": "markdown",
   "metadata": {}
  },
  {
   "cell_type": "code",
   "execution_count": 1,
   "metadata": {},
   "outputs": [],
   "source": [
    "import numpy as np"
   ]
  },
  {
   "cell_type": "code",
   "execution_count": 6,
   "metadata": {},
   "outputs": [
    {
     "output_type": "stream",
     "name": "stdout",
     "text": [
      "[[ 3.22297548  0.95763055 -2.81042887  1.60514426]\n [-1.26463171 -1.37202834  2.60459718 -3.14125371]\n [-0.04336421 -2.2725318   0.89755309 -5.56930881]\n [ 0.59186103  1.46369866 -0.27360799  1.16153352]]\n \n[[ 3.22297548  0.95763055 -2.81042887  1.60514426]\n [-1.26463171 -1.37202834  2.60459718 -3.14125371]\n [-0.04336421 -2.2725318   0.89755309 -5.56930881]\n [ 0.59186103  1.46369866 -0.27360799  1.16153352]]\n \n[[0. 0. 0. 0.]\n [0. 0. 0. 0.]\n [0. 0. 0. 0.]\n [0. 0. 0. 0.]]\n"
     ]
    }
   ],
   "source": [
    "M1 = np.random.randn(4,5)   # 4x5\n",
    "M2 = np.random.randn(4,5)   # 4x5\n",
    "\n",
    "# print( np.matmul(M1, M2))   # shape error : (n?,k),(k,m?)->(n?,m?)\n",
    "print( np.matmul(M1, M2.T) )\n",
    "print(' ')\n",
    "\n",
    "print(M1@M2.T)\n",
    "print(' ')\n",
    "\n",
    "print(np.matmul(M1, M2.T) - M1@M2.T)     # same result"
   ]
  },
  {
   "source": [
    "- assignment            \n",
    "    1) create a 3x3 matrix of integers                \n",
    "    2) multiply by (1) identity, (2) zeros, (3) that matrix's transpose              "
   ],
   "cell_type": "markdown",
   "metadata": {}
  },
  {
   "cell_type": "code",
   "execution_count": 21,
   "metadata": {},
   "outputs": [
    {
     "output_type": "stream",
     "name": "stdout",
     "text": [
      "[[-1 -6 -6]\n [-1  6  9]\n [ 7  5 -6]]\n \n[[1. 0. 0.]\n [0. 1. 0.]\n [0. 0. 1.]]\n \n[[0. 0. 0.]\n [0. 0. 0.]\n [0. 0. 0.]]\n \n[[-1 -1  7]\n [-6  6  5]\n [-6  9 -6]]\n"
     ]
    }
   ],
   "source": [
    "M3 = np.random.randint(-10,10,size=(3,3))\n",
    "print(M3)\n",
    "print(' ')\n",
    "M_identity = np.eye(3)\n",
    "print(M_identity)\n",
    "print(' ')\n",
    "M_zero = np.zeros((3,3))\n",
    "print(M_zero)\n",
    "print(' ')\n",
    "M_T = M3.T\n",
    "print(M_T)"
   ]
  },
  {
   "cell_type": "code",
   "execution_count": 22,
   "metadata": {},
   "outputs": [
    {
     "output_type": "stream",
     "name": "stdout",
     "text": [
      "[[-1. -6. -6.]\n [-1.  6.  9.]\n [ 7.  5. -6.]]\n[[0. 0. 0.]\n [0. 0. 0.]\n [0. 0. 0.]]\n[[ 73 -89  -1]\n [-89 118 -31]\n [ -1 -31 110]]\n"
     ]
    }
   ],
   "source": [
    "print(np.matmul(M3, M_identity))\n",
    "print(np.matmul(M3, M_zero))\n",
    "print(np.matmul(M3, M_T))"
   ]
  },
  {
   "cell_type": "code",
   "execution_count": null,
   "metadata": {},
   "outputs": [],
   "source": []
  }
 ]
}