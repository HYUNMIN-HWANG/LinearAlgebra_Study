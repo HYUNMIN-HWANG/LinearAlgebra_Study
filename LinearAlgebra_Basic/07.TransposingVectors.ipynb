{
 "metadata": {
  "language_info": {
   "codemirror_mode": {
    "name": "ipython",
    "version": 3
   },
   "file_extension": ".py",
   "mimetype": "text/x-python",
   "name": "python",
   "nbconvert_exporter": "python",
   "pygments_lexer": "ipython3",
   "version": "3.8.5"
  },
  "orig_nbformat": 4,
  "kernelspec": {
   "name": "python3",
   "display_name": "Python 3.8.5 64-bit ('base': conda)"
  },
  "interpreter": {
   "hash": "cfed29639e118e2330c8cca2e9f389b076390c6676518be5d289ddd682bc9f99"
  }
 },
 "nbformat": 4,
 "nbformat_minor": 2,
 "cells": [
  {
   "source": [
    "# Transposing a Vector(Matrix)\n",
    "column vector -> row vector\n",
    "\n",
    "* Symmetric Matrices -> Tranpose한 것과 동일하다.\n"
   ],
   "cell_type": "markdown",
   "metadata": {}
  },
  {
   "cell_type": "code",
   "execution_count": 1,
   "metadata": {},
   "outputs": [],
   "source": [
    "import numpy as np"
   ]
  },
  {
   "cell_type": "code",
   "execution_count": 2,
   "metadata": {},
   "outputs": [
    {
     "output_type": "stream",
     "name": "stdout",
     "text": [
      "[ 2  3 -1]\n[ 2  3 -1]\n"
     ]
    }
   ],
   "source": [
    "v1 = np.array([2,3,-1])\n",
    "\n",
    "print(v1)\n",
    "print(v1.T) # Transpose"
   ]
  },
  {
   "cell_type": "code",
   "execution_count": 4,
   "metadata": {},
   "outputs": [
    {
     "output_type": "stream",
     "name": "stdout",
     "text": [
      "[[ 2  3 -1]]\n \n[[ 2]\n [ 3]\n [-1]]\n"
     ]
    }
   ],
   "source": [
    "v1 = np.array([2,3,-1], ndmin=2)\n",
    "\n",
    "print(v1)\n",
    "print(' ')\n",
    "print(v1.T) # Transpose : row vector -> column vector"
   ]
  },
  {
   "cell_type": "code",
   "execution_count": 10,
   "metadata": {},
   "outputs": [
    {
     "output_type": "stream",
     "name": "stdout",
     "text": [
      "[[-31.  -4.  -4.]\n [ -1.   1.  -7.]\n [ 10.  -9.  22.]]\n \n[[-31.  -1.  10.]\n [ -4.   1.  -9.]\n [ -4.  -7.  22.]]\n"
     ]
    }
   ],
   "source": [
    "M = np.round(10*np.random.randn(3,3))    # random\n",
    "print(M)\n",
    "print(' ')\n",
    "print(M.T)  # Transpose : row vector -> column vector"
   ]
  },
  {
   "source": [
    "- assignment         \n",
    "    1) what happens when we transpose twice? -> M matricx, MT transpose, MTT double transpose      \n",
    "    2) confirm that the transpose operation works on non-squre matricx      \n",
    "    "
   ],
   "cell_type": "markdown",
   "metadata": {}
  },
  {
   "cell_type": "code",
   "execution_count": 16,
   "metadata": {},
   "outputs": [
    {
     "output_type": "stream",
     "name": "stdout",
     "text": [
      "[[-10.   3. -14.  -8.]\n [ -8.  -8.  -6. -31.]\n [ 13.   1.   5.   0.]\n [ 14.  11.   2.  -7.]]\n \n[[-10.  -8.  13.  14.]\n [  3.  -8.   1.  11.]\n [-14.  -6.   5.   2.]\n [ -8. -31.   0.  -7.]]\n \n[[-10.   3. -14.  -8.]\n [ -8.  -8.  -6. -31.]\n [ 13.   1.   5.   0.]\n [ 14.  11.   2.  -7.]]\n"
     ]
    }
   ],
   "source": [
    "# 1)\n",
    "M = np.round(10*np.random.randn(4,4))\n",
    "print(M)\n",
    "print(\" \")\n",
    "\n",
    "MT = M.T\n",
    "print(MT)\n",
    "print(\" \")\n",
    "\n",
    "MTT = MT.T\n",
    "print(MTT)  # 다시 원래 상태로 돌아간다."
   ]
  },
  {
   "cell_type": "code",
   "execution_count": 21,
   "metadata": {},
   "outputs": [
    {
     "output_type": "stream",
     "name": "stdout",
     "text": [
      "[[ 3. 12. 12. -7.]\n [ 5. -4. -6.  2.]]\n \n[[ 3.  5.]\n [12. -4.]\n [12. -6.]\n [-7.  2.]]\n \n[[ 3. 12. 12. -7.]\n [ 5. -4. -6.  2.]]\n"
     ]
    }
   ],
   "source": [
    "# 2)\n",
    "m = np.round(10*np.random.randn(2,4))\n",
    "print(m)\n",
    "print(' ')\n",
    "\n",
    "mt = m.T\n",
    "print(mt)\n",
    "print(' ')\n",
    "\n",
    "mtt = mt.T\n",
    "print(mtt)"
   ]
  }
 ]
}